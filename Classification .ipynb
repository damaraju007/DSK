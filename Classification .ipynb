{
 "cells": [
  {
   "cell_type": "code",
   "execution_count": 4,
   "metadata": {},
   "outputs": [],
   "source": [
    "import pandas as pd\n",
    "import matplotlib.pyplot as plt\n",
    "from sklearn import model_selection\n",
    "from sklearn.linear_model import LogisticRegression\n",
    "from sklearn.tree import DecisionTreeClassifier\n",
    "from sklearn.neighbors import KNeighborsClassifier\n",
    "from sklearn.discriminant_analysis import LinearDiscriminantAnalysis\n",
    "from sklearn.naive_bayes import GaussianNB\n",
    "from sklearn.svm import SVC"
   ]
  },
  {
   "cell_type": "code",
   "execution_count": 5,
   "metadata": {},
   "outputs": [],
   "source": [
    "data = pd.read_excel(r\"Attacks on Political Leaders in Pakistan.csv\")"
   ]
  },
  {
   "cell_type": "code",
   "execution_count": 6,
   "metadata": {},
   "outputs": [
    {
     "data": {
      "text/html": [
       "<div>\n",
       "<style scoped>\n",
       "    .dataframe tbody tr th:only-of-type {\n",
       "        vertical-align: middle;\n",
       "    }\n",
       "\n",
       "    .dataframe tbody tr th {\n",
       "        vertical-align: top;\n",
       "    }\n",
       "\n",
       "    .dataframe thead th {\n",
       "        text-align: right;\n",
       "    }\n",
       "</style>\n",
       "<table border=\"1\" class=\"dataframe\">\n",
       "  <thead>\n",
       "    <tr style=\"text-align: right;\">\n",
       "      <th></th>\n",
       "      <th>S#</th>\n",
       "      <th>Politician</th>\n",
       "      <th>Day</th>\n",
       "      <th>Date</th>\n",
       "      <th>Day Type</th>\n",
       "      <th>Time</th>\n",
       "      <th>City</th>\n",
       "      <th>Location</th>\n",
       "      <th>Location Category</th>\n",
       "      <th>Province</th>\n",
       "      <th>Latitude</th>\n",
       "      <th>Longititude</th>\n",
       "      <th>Target Category</th>\n",
       "      <th>Space (Open/Closed)</th>\n",
       "      <th>Party</th>\n",
       "      <th>Target Status</th>\n",
       "      <th>Killed</th>\n",
       "      <th>Injured</th>\n",
       "    </tr>\n",
       "  </thead>\n",
       "  <tbody>\n",
       "    <tr>\n",
       "      <th>0</th>\n",
       "      <td>1</td>\n",
       "      <td>Liaqat Ali Khan</td>\n",
       "      <td>Tuesday</td>\n",
       "      <td>1951-10-16</td>\n",
       "      <td>Working Day</td>\n",
       "      <td>Evening</td>\n",
       "      <td>Rawalpindi</td>\n",
       "      <td>Company Bagh (Company Gardens), Rawalpindi</td>\n",
       "      <td>Park/Ground</td>\n",
       "      <td>Punjab</td>\n",
       "      <td>33.605800</td>\n",
       "      <td>73.043700</td>\n",
       "      <td>Target</td>\n",
       "      <td>Open</td>\n",
       "      <td>Alll India Muslim League</td>\n",
       "      <td>Killed</td>\n",
       "      <td>1</td>\n",
       "      <td>1</td>\n",
       "    </tr>\n",
       "    <tr>\n",
       "      <th>1</th>\n",
       "      <td>2</td>\n",
       "      <td>Khan abdul Jabbar Khan</td>\n",
       "      <td>Friday</td>\n",
       "      <td>1958-05-09</td>\n",
       "      <td>Working Day</td>\n",
       "      <td>Morning</td>\n",
       "      <td>Lahore</td>\n",
       "      <td>Sadullah Khan's house at 16 Aikman Road, GOR</td>\n",
       "      <td>Residence</td>\n",
       "      <td>Punjab</td>\n",
       "      <td>31.482635</td>\n",
       "      <td>74.071272</td>\n",
       "      <td>Target</td>\n",
       "      <td>Open</td>\n",
       "      <td>Chief Minister of West Pakistan</td>\n",
       "      <td>Killed</td>\n",
       "      <td>1</td>\n",
       "      <td>0</td>\n",
       "    </tr>\n",
       "    <tr>\n",
       "      <th>2</th>\n",
       "      <td>3</td>\n",
       "      <td>Hayyat Sherpao</td>\n",
       "      <td>Friday</td>\n",
       "      <td>1985-02-08</td>\n",
       "      <td>Working Day</td>\n",
       "      <td>Evening</td>\n",
       "      <td>Peshawar</td>\n",
       "      <td>Campus of University of Peshawar</td>\n",
       "      <td>University</td>\n",
       "      <td>KPK</td>\n",
       "      <td>33.999533</td>\n",
       "      <td>71.425020</td>\n",
       "      <td>Target</td>\n",
       "      <td>Open</td>\n",
       "      <td>PPPP</td>\n",
       "      <td>Killed</td>\n",
       "      <td>1</td>\n",
       "      <td>0</td>\n",
       "    </tr>\n",
       "    <tr>\n",
       "      <th>3</th>\n",
       "      <td>4</td>\n",
       "      <td>Najeeb Ahmed</td>\n",
       "      <td>Friday</td>\n",
       "      <td>1990-04-06</td>\n",
       "      <td>Working Day</td>\n",
       "      <td>After Noon</td>\n",
       "      <td>Karachi</td>\n",
       "      <td>North Nazimabad</td>\n",
       "      <td>Residence</td>\n",
       "      <td>Sindh</td>\n",
       "      <td>24.991800</td>\n",
       "      <td>66.991100</td>\n",
       "      <td>Target</td>\n",
       "      <td>Closed</td>\n",
       "      <td>Student wing of PPP</td>\n",
       "      <td>Killed</td>\n",
       "      <td>1</td>\n",
       "      <td>0</td>\n",
       "    </tr>\n",
       "    <tr>\n",
       "      <th>4</th>\n",
       "      <td>5</td>\n",
       "      <td>Azeem Ahmed Tariq</td>\n",
       "      <td>Saturday</td>\n",
       "      <td>1993-05-01</td>\n",
       "      <td>Working Day</td>\n",
       "      <td>Morning</td>\n",
       "      <td>Karachi</td>\n",
       "      <td>near his house</td>\n",
       "      <td>Residence</td>\n",
       "      <td>Sindh</td>\n",
       "      <td>24.991800</td>\n",
       "      <td>66.991100</td>\n",
       "      <td>Target</td>\n",
       "      <td>Closed</td>\n",
       "      <td>MQM</td>\n",
       "      <td>Killed</td>\n",
       "      <td>1</td>\n",
       "      <td>0</td>\n",
       "    </tr>\n",
       "  </tbody>\n",
       "</table>\n",
       "</div>"
      ],
      "text/plain": [
       "   S#              Politician       Day       Date     Day Type        Time  \\\n",
       "0   1         Liaqat Ali Khan   Tuesday 1951-10-16  Working Day     Evening   \n",
       "1   2  Khan abdul Jabbar Khan    Friday 1958-05-09  Working Day     Morning   \n",
       "2   3          Hayyat Sherpao    Friday 1985-02-08  Working Day     Evening   \n",
       "3   4            Najeeb Ahmed    Friday 1990-04-06  Working Day  After Noon   \n",
       "4   5       Azeem Ahmed Tariq  Saturday 1993-05-01  Working Day     Morning   \n",
       "\n",
       "         City                                       Location  \\\n",
       "0  Rawalpindi     Company Bagh (Company Gardens), Rawalpindi   \n",
       "1      Lahore   Sadullah Khan's house at 16 Aikman Road, GOR   \n",
       "2    Peshawar               Campus of University of Peshawar   \n",
       "3     Karachi                                North Nazimabad   \n",
       "4     Karachi                                 near his house   \n",
       "\n",
       "  Location Category Province   Latitude  Longititude Target Category  \\\n",
       "0       Park/Ground   Punjab  33.605800    73.043700          Target   \n",
       "1         Residence   Punjab  31.482635    74.071272          Target   \n",
       "2        University      KPK  33.999533    71.425020          Target   \n",
       "3         Residence    Sindh  24.991800    66.991100          Target   \n",
       "4         Residence    Sindh  24.991800    66.991100          Target   \n",
       "\n",
       "  Space (Open/Closed)                            Party Target Status  Killed  \\\n",
       "0                Open         Alll India Muslim League        Killed       1   \n",
       "1                Open  Chief Minister of West Pakistan        Killed       1   \n",
       "2                Open                             PPPP        Killed       1   \n",
       "3              Closed              Student wing of PPP        Killed       1   \n",
       "4              Closed                              MQM        Killed       1   \n",
       "\n",
       "   Injured  \n",
       "0        1  \n",
       "1        0  \n",
       "2        0  \n",
       "3        0  \n",
       "4        0  "
      ]
     },
     "execution_count": 6,
     "metadata": {},
     "output_type": "execute_result"
    }
   ],
   "source": [
    "data.head()"
   ]
  },
  {
   "cell_type": "code",
   "execution_count": 7,
   "metadata": {},
   "outputs": [
    {
     "name": "stdout",
     "output_type": "stream",
     "text": [
      "<class 'pandas.core.frame.DataFrame'>\n",
      "RangeIndex: 51 entries, 0 to 50\n",
      "Data columns (total 18 columns):\n",
      " #   Column               Non-Null Count  Dtype         \n",
      "---  ------               --------------  -----         \n",
      " 0   S#                   51 non-null     int64         \n",
      " 1   Politician           51 non-null     object        \n",
      " 2   Day                  51 non-null     object        \n",
      " 3   Date                 51 non-null     datetime64[ns]\n",
      " 4   Day Type             51 non-null     object        \n",
      " 5   Time                 51 non-null     object        \n",
      " 6   City                 51 non-null     object        \n",
      " 7   Location             51 non-null     object        \n",
      " 8   Location Category    48 non-null     object        \n",
      " 9   Province             51 non-null     object        \n",
      " 10  Latitude             51 non-null     float64       \n",
      " 11  Longititude          51 non-null     float64       \n",
      " 12  Target Category      51 non-null     object        \n",
      " 13  Space (Open/Closed)  51 non-null     object        \n",
      " 14  Party                51 non-null     object        \n",
      " 15  Target Status        51 non-null     object        \n",
      " 16  Killed               51 non-null     int64         \n",
      " 17  Injured              51 non-null     int64         \n",
      "dtypes: datetime64[ns](1), float64(2), int64(3), object(12)\n",
      "memory usage: 7.3+ KB\n"
     ]
    }
   ],
   "source": [
    "data.info()"
   ]
  },
  {
   "cell_type": "code",
   "execution_count": 8,
   "metadata": {},
   "outputs": [],
   "source": [
    "data.drop(['S#','Location', 'Location Category', 'Space (Open/Closed)', 'Date'], axis =1, inplace = True)"
   ]
  },
  {
   "cell_type": "code",
   "execution_count": 9,
   "metadata": {},
   "outputs": [
    {
     "data": {
      "text/plain": [
       "Politician         0\n",
       "Day                0\n",
       "Day Type           0\n",
       "Time               0\n",
       "City               0\n",
       "Province           0\n",
       "Latitude           0\n",
       "Longititude        0\n",
       "Target Category    0\n",
       "Party              0\n",
       "Target Status      0\n",
       "Killed             0\n",
       "Injured            0\n",
       "dtype: int64"
      ]
     },
     "execution_count": 9,
     "metadata": {},
     "output_type": "execute_result"
    }
   ],
   "source": [
    "data.isnull().sum()"
   ]
  },
  {
   "cell_type": "code",
   "execution_count": 12,
   "metadata": {},
   "outputs": [
    {
     "data": {
      "text/plain": [
       "26"
      ]
     },
     "execution_count": 12,
     "metadata": {},
     "output_type": "execute_result"
    }
   ],
   "source": [
    "data['Longititude'].nunique()"
   ]
  },
  {
   "cell_type": "code",
   "execution_count": 13,
   "metadata": {},
   "outputs": [],
   "source": [
    "from sklearn.preprocessing import LabelEncoder\n",
    "LE = LabelEncoder()\n",
    "LE.fit(data['Politician'])\n",
    "data['Politician'] = LE.transform(data['Politician'])\n",
    "\n",
    "LE = LabelEncoder()\n",
    "LE.fit(data['Day'])\n",
    "data['Day'] = LE.transform(data['Day'])\n",
    "\n",
    "LE = LabelEncoder()\n",
    "LE.fit(data['Day Type'])\n",
    "data['Day Type'] = LE.transform(data['Day Type'])\n",
    "\n",
    "LE = LabelEncoder()\n",
    "LE.fit(data['Time'])\n",
    "data['Time'] = LE.transform(data['Time'])\n",
    "\n",
    "LE = LabelEncoder()\n",
    "LE.fit(data['City'])\n",
    "data['City'] = LE.transform(data['City'])\n",
    "\n",
    "LE = LabelEncoder()\n",
    "LE.fit(data['Province'])\n",
    "data['Province'] = LE.transform(data['Province'])\n",
    "\n",
    "LE = LabelEncoder()\n",
    "LE.fit(data['Target Category'])\n",
    "data['Target Category'] = LE.transform(data['Target Category'])\n",
    "\n",
    "LE = LabelEncoder()\n",
    "LE.fit(data['Party'])\n",
    "data['Party'] = LE.transform(data['Party'])\n",
    "\n",
    "LE = LabelEncoder()\n",
    "LE.fit(data['Target Status'])\n",
    "data['Target Status'] = LE.transform(data['Target Status'])\n"
   ]
  },
  {
   "cell_type": "code",
   "execution_count": 14,
   "metadata": {},
   "outputs": [
    {
     "data": {
      "text/html": [
       "<div>\n",
       "<style scoped>\n",
       "    .dataframe tbody tr th:only-of-type {\n",
       "        vertical-align: middle;\n",
       "    }\n",
       "\n",
       "    .dataframe tbody tr th {\n",
       "        vertical-align: top;\n",
       "    }\n",
       "\n",
       "    .dataframe thead th {\n",
       "        text-align: right;\n",
       "    }\n",
       "</style>\n",
       "<table border=\"1\" class=\"dataframe\">\n",
       "  <thead>\n",
       "    <tr style=\"text-align: right;\">\n",
       "      <th></th>\n",
       "      <th>Politician</th>\n",
       "      <th>Day</th>\n",
       "      <th>Day Type</th>\n",
       "      <th>Time</th>\n",
       "      <th>City</th>\n",
       "      <th>Province</th>\n",
       "      <th>Latitude</th>\n",
       "      <th>Longititude</th>\n",
       "      <th>Target Category</th>\n",
       "      <th>Party</th>\n",
       "      <th>Target Status</th>\n",
       "      <th>Killed</th>\n",
       "      <th>Injured</th>\n",
       "    </tr>\n",
       "  </thead>\n",
       "  <tbody>\n",
       "    <tr>\n",
       "      <th>0</th>\n",
       "      <td>21</td>\n",
       "      <td>5</td>\n",
       "      <td>1</td>\n",
       "      <td>1</td>\n",
       "      <td>22</td>\n",
       "      <td>5</td>\n",
       "      <td>33.605800</td>\n",
       "      <td>73.043700</td>\n",
       "      <td>1</td>\n",
       "      <td>2</td>\n",
       "      <td>1</td>\n",
       "      <td>1</td>\n",
       "      <td>1</td>\n",
       "    </tr>\n",
       "    <tr>\n",
       "      <th>1</th>\n",
       "      <td>19</td>\n",
       "      <td>0</td>\n",
       "      <td>1</td>\n",
       "      <td>3</td>\n",
       "      <td>15</td>\n",
       "      <td>5</td>\n",
       "      <td>31.482635</td>\n",
       "      <td>74.071272</td>\n",
       "      <td>1</td>\n",
       "      <td>8</td>\n",
       "      <td>1</td>\n",
       "      <td>1</td>\n",
       "      <td>0</td>\n",
       "    </tr>\n",
       "    <tr>\n",
       "      <th>2</th>\n",
       "      <td>15</td>\n",
       "      <td>0</td>\n",
       "      <td>1</td>\n",
       "      <td>1</td>\n",
       "      <td>20</td>\n",
       "      <td>4</td>\n",
       "      <td>33.999533</td>\n",
       "      <td>71.425020</td>\n",
       "      <td>1</td>\n",
       "      <td>21</td>\n",
       "      <td>1</td>\n",
       "      <td>1</td>\n",
       "      <td>0</td>\n",
       "    </tr>\n",
       "    <tr>\n",
       "      <th>3</th>\n",
       "      <td>29</td>\n",
       "      <td>0</td>\n",
       "      <td>1</td>\n",
       "      <td>0</td>\n",
       "      <td>12</td>\n",
       "      <td>6</td>\n",
       "      <td>24.991800</td>\n",
       "      <td>66.991100</td>\n",
       "      <td>1</td>\n",
       "      <td>24</td>\n",
       "      <td>1</td>\n",
       "      <td>1</td>\n",
       "      <td>0</td>\n",
       "    </tr>\n",
       "    <tr>\n",
       "      <th>4</th>\n",
       "      <td>5</td>\n",
       "      <td>2</td>\n",
       "      <td>1</td>\n",
       "      <td>3</td>\n",
       "      <td>12</td>\n",
       "      <td>6</td>\n",
       "      <td>24.991800</td>\n",
       "      <td>66.991100</td>\n",
       "      <td>1</td>\n",
       "      <td>14</td>\n",
       "      <td>1</td>\n",
       "      <td>1</td>\n",
       "      <td>0</td>\n",
       "    </tr>\n",
       "  </tbody>\n",
       "</table>\n",
       "</div>"
      ],
      "text/plain": [
       "   Politician  Day  Day Type  Time  City  Province   Latitude  Longititude  \\\n",
       "0          21    5         1     1    22         5  33.605800    73.043700   \n",
       "1          19    0         1     3    15         5  31.482635    74.071272   \n",
       "2          15    0         1     1    20         4  33.999533    71.425020   \n",
       "3          29    0         1     0    12         6  24.991800    66.991100   \n",
       "4           5    2         1     3    12         6  24.991800    66.991100   \n",
       "\n",
       "   Target Category  Party  Target Status  Killed  Injured  \n",
       "0                1      2              1       1        1  \n",
       "1                1      8              1       1        0  \n",
       "2                1     21              1       1        0  \n",
       "3                1     24              1       1        0  \n",
       "4                1     14              1       1        0  "
      ]
     },
     "execution_count": 14,
     "metadata": {},
     "output_type": "execute_result"
    }
   ],
   "source": [
    "data.head()"
   ]
  },
  {
   "cell_type": "code",
   "execution_count": 15,
   "metadata": {},
   "outputs": [],
   "source": [
    "\n",
    "column_names = [\"Politician\", \"Day\", \"Day Type\", \"Time\", \"City\", \"Province\", \"Latitude\", \"Longititude\", \"Target Category\", \"Party\", \"Killed\", \"Injured\", \"Target Status\"]\n",
    "\n",
    "data = data.reindex(columns=column_names)"
   ]
  },
  {
   "cell_type": "code",
   "execution_count": 16,
   "metadata": {},
   "outputs": [
    {
     "data": {
      "text/html": [
       "<div>\n",
       "<style scoped>\n",
       "    .dataframe tbody tr th:only-of-type {\n",
       "        vertical-align: middle;\n",
       "    }\n",
       "\n",
       "    .dataframe tbody tr th {\n",
       "        vertical-align: top;\n",
       "    }\n",
       "\n",
       "    .dataframe thead th {\n",
       "        text-align: right;\n",
       "    }\n",
       "</style>\n",
       "<table border=\"1\" class=\"dataframe\">\n",
       "  <thead>\n",
       "    <tr style=\"text-align: right;\">\n",
       "      <th></th>\n",
       "      <th>Politician</th>\n",
       "      <th>Day</th>\n",
       "      <th>Day Type</th>\n",
       "      <th>Time</th>\n",
       "      <th>City</th>\n",
       "      <th>Province</th>\n",
       "      <th>Latitude</th>\n",
       "      <th>Longititude</th>\n",
       "      <th>Target Category</th>\n",
       "      <th>Party</th>\n",
       "      <th>Killed</th>\n",
       "      <th>Injured</th>\n",
       "      <th>Target Status</th>\n",
       "    </tr>\n",
       "  </thead>\n",
       "  <tbody>\n",
       "    <tr>\n",
       "      <th>0</th>\n",
       "      <td>21</td>\n",
       "      <td>5</td>\n",
       "      <td>1</td>\n",
       "      <td>1</td>\n",
       "      <td>22</td>\n",
       "      <td>5</td>\n",
       "      <td>33.605800</td>\n",
       "      <td>73.043700</td>\n",
       "      <td>1</td>\n",
       "      <td>2</td>\n",
       "      <td>1</td>\n",
       "      <td>1</td>\n",
       "      <td>1</td>\n",
       "    </tr>\n",
       "    <tr>\n",
       "      <th>1</th>\n",
       "      <td>19</td>\n",
       "      <td>0</td>\n",
       "      <td>1</td>\n",
       "      <td>3</td>\n",
       "      <td>15</td>\n",
       "      <td>5</td>\n",
       "      <td>31.482635</td>\n",
       "      <td>74.071272</td>\n",
       "      <td>1</td>\n",
       "      <td>8</td>\n",
       "      <td>1</td>\n",
       "      <td>0</td>\n",
       "      <td>1</td>\n",
       "    </tr>\n",
       "    <tr>\n",
       "      <th>2</th>\n",
       "      <td>15</td>\n",
       "      <td>0</td>\n",
       "      <td>1</td>\n",
       "      <td>1</td>\n",
       "      <td>20</td>\n",
       "      <td>4</td>\n",
       "      <td>33.999533</td>\n",
       "      <td>71.425020</td>\n",
       "      <td>1</td>\n",
       "      <td>21</td>\n",
       "      <td>1</td>\n",
       "      <td>0</td>\n",
       "      <td>1</td>\n",
       "    </tr>\n",
       "    <tr>\n",
       "      <th>3</th>\n",
       "      <td>29</td>\n",
       "      <td>0</td>\n",
       "      <td>1</td>\n",
       "      <td>0</td>\n",
       "      <td>12</td>\n",
       "      <td>6</td>\n",
       "      <td>24.991800</td>\n",
       "      <td>66.991100</td>\n",
       "      <td>1</td>\n",
       "      <td>24</td>\n",
       "      <td>1</td>\n",
       "      <td>0</td>\n",
       "      <td>1</td>\n",
       "    </tr>\n",
       "    <tr>\n",
       "      <th>4</th>\n",
       "      <td>5</td>\n",
       "      <td>2</td>\n",
       "      <td>1</td>\n",
       "      <td>3</td>\n",
       "      <td>12</td>\n",
       "      <td>6</td>\n",
       "      <td>24.991800</td>\n",
       "      <td>66.991100</td>\n",
       "      <td>1</td>\n",
       "      <td>14</td>\n",
       "      <td>1</td>\n",
       "      <td>0</td>\n",
       "      <td>1</td>\n",
       "    </tr>\n",
       "  </tbody>\n",
       "</table>\n",
       "</div>"
      ],
      "text/plain": [
       "   Politician  Day  Day Type  Time  City  Province   Latitude  Longititude  \\\n",
       "0          21    5         1     1    22         5  33.605800    73.043700   \n",
       "1          19    0         1     3    15         5  31.482635    74.071272   \n",
       "2          15    0         1     1    20         4  33.999533    71.425020   \n",
       "3          29    0         1     0    12         6  24.991800    66.991100   \n",
       "4           5    2         1     3    12         6  24.991800    66.991100   \n",
       "\n",
       "   Target Category  Party  Killed  Injured  Target Status  \n",
       "0                1      2       1        1              1  \n",
       "1                1      8       1        0              1  \n",
       "2                1     21       1        0              1  \n",
       "3                1     24       1        0              1  \n",
       "4                1     14       1        0              1  "
      ]
     },
     "execution_count": 16,
     "metadata": {},
     "output_type": "execute_result"
    }
   ],
   "source": [
    "data.head()"
   ]
  },
  {
   "cell_type": "code",
   "execution_count": 19,
   "metadata": {},
   "outputs": [],
   "source": [
    "X = data.iloc[:, :12]\n",
    "Y = data.iloc[:, 12]"
   ]
  },
  {
   "cell_type": "code",
   "execution_count": 21,
   "metadata": {},
   "outputs": [
    {
     "data": {
      "text/plain": [
       "(51, 12)"
      ]
     },
     "execution_count": 21,
     "metadata": {},
     "output_type": "execute_result"
    }
   ],
   "source": [
    "X.shape"
   ]
  },
  {
   "cell_type": "code",
   "execution_count": 22,
   "metadata": {},
   "outputs": [
    {
     "data": {
      "text/plain": [
       "(51,)"
      ]
     },
     "execution_count": 22,
     "metadata": {},
     "output_type": "execute_result"
    }
   ],
   "source": [
    "Y.shape"
   ]
  },
  {
   "cell_type": "code",
   "execution_count": 38,
   "metadata": {},
   "outputs": [],
   "source": [
    "import warnings\n",
    "warnings.filterwarnings('ignore')"
   ]
  },
  {
   "cell_type": "code",
   "execution_count": 39,
   "metadata": {},
   "outputs": [],
   "source": [
    "from sklearn.model_selection import train_test_split\n",
    "train_X, test_X, train_y, test_y = train_test_split(X, Y, test_size=0.2, random_state=100)"
   ]
  },
  {
   "cell_type": "code",
   "execution_count": 40,
   "metadata": {},
   "outputs": [],
   "source": [
    "models = []\n",
    "models.append(('LR', LogisticRegression()))\n",
    "models.append(('LDA', LinearDiscriminantAnalysis()))\n",
    "models.append(('KNN', KNeighborsClassifier()))\n",
    "models.append(('CART', DecisionTreeClassifier()))\n",
    "models.append(('NB', GaussianNB()))\n",
    "models.append(('SVM', SVC()))"
   ]
  },
  {
   "cell_type": "code",
   "execution_count": 41,
   "metadata": {},
   "outputs": [
    {
     "name": "stdout",
     "output_type": "stream",
     "text": [
      "LR: 52.500000 (0.283945)\n",
      "LDA: 55.000000 (0.187083)\n",
      "KNN: 42.500000 (0.160078)\n",
      "CART: 65.000000 (0.165831)\n",
      "NB: 57.500000 (0.317214)\n",
      "SVM: 52.500000 (0.175000)\n"
     ]
    }
   ],
   "source": [
    "seed = 7\n",
    "results = []\n",
    "names = []\n",
    "scoring = 'accuracy'\n",
    "for name, model in models:\n",
    "    kfold = model_selection.KFold(n_splits=10, random_state=seed)\n",
    "    cv_results = model_selection.cross_val_score(model, train_X, train_y, cv=kfold, scoring=scoring)\n",
    "    results.append(cv_results)\n",
    "    names.append(name)\n",
    "    msg = \"%s: %f (%f)\" % (name, cv_results.mean()*100, cv_results.std())\n",
    "    print(msg)"
   ]
  },
  {
   "cell_type": "code",
   "execution_count": null,
   "metadata": {},
   "outputs": [],
   "source": [
    "#The Above result provides the list of each algorithm short name, the mean accuracy and standard deviation accuracy\n",
    "# We conclude that Naive bayes and decision tree classifier has better accuracy compared to other algorithms in which the predicted result would have around 60% matched with actual result."
   ]
  },
  {
   "cell_type": "code",
   "execution_count": 43,
   "metadata": {},
   "outputs": [
    {
     "data": {
      "image/png": "[encoded data removed]",
      "text/plain": [
       "<Figure size 432x288 with 1 Axes>"
      ]
     },
     "metadata": {
      "needs_background": "light"
     },
     "output_type": "display_data"
    }
   ],
   "source": [
    "# boxplot algorithm comparison\n",
    "fig = plt.figure()\n",
    "fig.suptitle('Algorithm Comparison')\n",
    "ax = fig.add_subplot(111)\n",
    "plt.boxplot(results)\n",
    "ax.set_xticklabels(names)\n",
    "plt.show()"
   ]
  },
  {
   "cell_type": "code",
   "execution_count": null,
   "metadata": {},
   "outputs": [],
   "source": []
  }
 ],
 "metadata": {
  "kernelspec": {
   "display_name": "Python 3",
   "language": "python",
   "name": "python3"
  },
  "language_info": {
   "codemirror_mode": {
    "name": "ipython",
    "version": 3
   },
   "file_extension": ".py",
   "mimetype": "text/x-python",
   "name": "python",
   "nbconvert_exporter": "python",
   "pygments_lexer": "ipython3",
   "version": "3.8.5"
  }
 },
 "nbformat": 4,
 "nbformat_minor": 4
}
